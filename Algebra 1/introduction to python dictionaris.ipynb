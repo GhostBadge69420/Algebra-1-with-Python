{
 "cells": [
  {
   "cell_type": "code",
   "execution_count": 20,
   "metadata": {},
   "outputs": [],
   "source": [
    "import sympy as sym\n",
    "import numpy as np\n",
    "sym.init_printing()\n",
    "from IPython.display import display,Math\n",
    "from sympy.abc import x,y\n",
    "import math"
   ]
  },
  {
   "cell_type": "code",
   "execution_count": 21,
   "metadata": {},
   "outputs": [
    {
     "name": "stdout",
     "output_type": "stream",
     "text": [
      "{'fruit': ['banana', 'apple'], 'numbers': [1, 2, 3, 2, 7]}\n"
     ]
    }
   ],
   "source": [
    "D = dict(fruit=['banana','apple'],numbers=[1,2,3,2,7])\n",
    "print(D)"
   ]
  },
  {
   "cell_type": "code",
   "execution_count": 22,
   "metadata": {},
   "outputs": [
    {
     "data": {
      "text/plain": [
       "dict_keys(['fruit', 'numbers'])"
      ]
     },
     "execution_count": 22,
     "metadata": {},
     "output_type": "execute_result"
    }
   ],
   "source": [
    "D.keys()"
   ]
  },
  {
   "cell_type": "code",
   "execution_count": 23,
   "metadata": {},
   "outputs": [
    {
     "data": {
      "text/plain": [
       "['banana', 'apple']"
      ]
     },
     "execution_count": 23,
     "metadata": {},
     "output_type": "execute_result"
    }
   ],
   "source": [
    "D['fruit']"
   ]
  },
  {
   "cell_type": "code",
   "execution_count": 24,
   "metadata": {},
   "outputs": [
    {
     "data": {
      "text/plain": [
       "'banana'"
      ]
     },
     "execution_count": 24,
     "metadata": {},
     "output_type": "execute_result"
    }
   ],
   "source": [
    "D['fruit'][0]"
   ]
  },
  {
   "cell_type": "code",
   "execution_count": 25,
   "metadata": {},
   "outputs": [
    {
     "data": {
      "image/png": "[encoded data removed]",
      "text/latex": [
       "$\\displaystyle 2$"
      ],
      "text/plain": [
       "2"
      ]
     },
     "execution_count": 25,
     "metadata": {},
     "output_type": "execute_result"
    }
   ],
   "source": [
    "len(D)"
   ]
  },
  {
   "cell_type": "code",
   "execution_count": 26,
   "metadata": {},
   "outputs": [
    {
     "data": {
      "text/plain": [
       "['banana', 'apple']"
      ]
     },
     "execution_count": 26,
     "metadata": {},
     "output_type": "execute_result"
    }
   ],
   "source": [
    "D.get('fruit')"
   ]
  },
  {
   "cell_type": "code",
   "execution_count": 27,
   "metadata": {},
   "outputs": [
    {
     "data": {
      "text/plain": [
       "'apple'"
      ]
     },
     "execution_count": 27,
     "metadata": {},
     "output_type": "execute_result"
    }
   ],
   "source": [
    "D.get('fruit')[1]"
   ]
  },
  {
   "cell_type": "code",
   "execution_count": 28,
   "metadata": {},
   "outputs": [
    {
     "name": "stdout",
     "output_type": "stream",
     "text": [
      "['banana', 'apple']\n",
      "[1, 2, 3, 2, 7]\n"
     ]
    }
   ],
   "source": [
    "for items in D:\n",
    "    print(D[items])"
   ]
  },
  {
   "attachments": {},
   "cell_type": "markdown",
   "metadata": {},
   "source": [
    "# Exercise\n",
    "\n",
    "4x = 6\n",
    "\n",
    "sin(y) = 0\n",
    "\n",
    "x^2 = 9"
   ]
  },
  {
   "cell_type": "code",
   "execution_count": 30,
   "metadata": {},
   "outputs": [
    {
     "name": "stdout",
     "output_type": "stream",
     "text": [
      "Equations solving for X:\n"
     ]
    },
    {
     "data": {
      "text/latex": [
       "$\\displaystyle 4 x - 6=0\\quad \\Rightarrow \\quad {X}=\\left[ \\frac{3}{2}\\right]$"
      ],
      "text/plain": [
       "<IPython.core.display.Math object>"
      ]
     },
     "metadata": {},
     "output_type": "display_data"
    },
    {
     "data": {
      "text/latex": [
       "$\\displaystyle x^{2} - 9=0\\quad \\Rightarrow \\quad {X}=\\left[ -3, \\  3\\right]$"
      ],
      "text/plain": [
       "<IPython.core.display.Math object>"
      ]
     },
     "metadata": {},
     "output_type": "display_data"
    },
    {
     "name": "stdout",
     "output_type": "stream",
     "text": [
      "Equations solving for Y:\n"
     ]
    },
    {
     "data": {
      "text/latex": [
       "$\\displaystyle \\sin{\\left(y \\right)}=0\\quad \\Rightarrow \\quad {Y}=\\left[ 0, \\  \\pi\\right]$"
      ],
      "text/plain": [
       "<IPython.core.display.Math object>"
      ]
     },
     "metadata": {},
     "output_type": "display_data"
    }
   ],
   "source": [
    "x,y = sym.symbols('x,y')\n",
    " \n",
    "x1_lhs = 4 * x\n",
    "x1_rhs = 6\n",
    "x2_lhs = x**2\n",
    "x2_rhs = 9\n",
    "y1_lhs = sym.sin(y)\n",
    "y1_rhs = 0\n",
    "equations = {\n",
    "    'for_x': {\n",
    "        'description': 'Equations solving for X:',\n",
    "        'equations': [\n",
    "            {'lhs': x1_lhs, 'rhs': x1_rhs},\n",
    "            {'lhs': x2_lhs, 'rhs': x2_rhs}\n",
    "        ]\n",
    "    },\n",
    "    'for_y': {\n",
    "        'description': 'Equations solving for Y:',\n",
    "        'equations': [\n",
    "            {'lhs': y1_lhs, 'rhs': y1_rhs}\n",
    "        ]\n",
    "    }\n",
    "}\n",
    " \n",
    "for i in equations:\n",
    "    print(equations[i]['description'])\n",
    "    for j in equations[i]['equations']:\n",
    "        expr = j['lhs']-j['rhs']\n",
    " \n",
    "        eq = sym.latex(expr) + '=0'\n",
    "        arrow = '\\\\quad \\\\Rightarrow \\\\quad '\n",
    "        symbol = str(expr.free_symbols).upper()\n",
    "        solution = sym.latex(sym.solve(expr))\n",
    " \n",
    "        display(Math(eq + arrow + symbol + '=' + solution))"
   ]
  },
  {
   "cell_type": "code",
   "execution_count": null,
   "metadata": {},
   "outputs": [],
   "source": []
  }
 ],
 "metadata": {
  "kernelspec": {
   "display_name": "base",
   "language": "python",
   "name": "python3"
  },
  "language_info": {
   "codemirror_mode": {
    "name": "ipython",
    "version": 3
   },
   "file_extension": ".py",
   "mimetype": "text/x-python",
   "name": "python",
   "nbconvert_exporter": "python",
   "pygments_lexer": "ipython3",
   "version": "3.10.9"
  },
  "orig_nbformat": 4
 },
 "nbformat": 4,
 "nbformat_minor": 2
}
